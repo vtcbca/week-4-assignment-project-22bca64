{
 "cells": [
  {
   "cell_type": "code",
   "execution_count": 1,
   "id": "ce41c35a",
   "metadata": {},
   "outputs": [],
   "source": [
    "def create_contact_table():\n",
    "    tbl=\"Create table IF NOT EXISTS contact(\\\n",
    "        fname text,\\\n",
    "        lname text,\\\n",
    "        contact integer,\\\n",
    "        email text,\\\n",
    "        city text\\\n",
    "        )\"\n",
    "    curobj.execute(tbl)"
   ]
  },
  {
   "cell_type": "code",
   "execution_count": 7,
   "id": "f597a134",
   "metadata": {},
   "outputs": [],
   "source": [
    "def create_log_table():\n",
    "    logtbl=\"create table  IF NOT EXISTS logtable1\\\n",
    "        (\\\n",
    "        fname text,\\\n",
    "        lname text,\\\n",
    "        contact integer,\\\n",
    "        datetime text,\\\n",
    "        operation text\\\n",
    "        );\"\n",
    "    curobj.execute(logtbl)"
   ]
  },
  {
   "cell_type": "code",
   "execution_count": 8,
   "id": "079f160a",
   "metadata": {},
   "outputs": [],
   "source": [
    " def contact_validate_trigger():\n",
    "    con_validate_trigger=\"create trigger IF NOT EXISTS contact_validate\\\n",
    "                        before insert\\\n",
    "                        on contact\\\n",
    "                        begin\\\n",
    "                        select\\\n",
    "                                case \\\n",
    "                                when length(new.contact)>10 then\\\n",
    "                                raise(abort,'Given number is greater than 10 digit . Please enter 10 digit number')\\\n",
    "                                when length(new.contact)<10 then\\\n",
    "                                raise(abort,'Given number is less than 10 digit . Please enter 10 digit number')\\\n",
    "                        end;\\\n",
    "                        end;\"\n",
    "\n",
    "    curobj.execute(con_validate_trigger)\n"
   ]
  },
  {
   "cell_type": "code",
   "execution_count": 22,
   "id": "5dafecb2",
   "metadata": {},
   "outputs": [],
   "source": [
    "def log_table_trigger():\n",
    "    log_tbl_insert_trigger=\"create trigger IF NOT EXISTS insert_trigger\\\n",
    "                        after insert \\\n",
    "                        on contact\\\n",
    "                        begin\\\n",
    "                            insert into logtable\\\n",
    "                            values(new.fname,new.lname,new.contact,datetime('now','localtime'),'INSERT');\\\n",
    "                        end;\"\n",
    "\n",
    "    curobj.execute(log_tbl_insert_trigger)\n",
    "    log_table_delete_trigger=\"create trigger IF NOT EXISTS delete_trigger\\\n",
    "                                after delete \\\n",
    "                                on contact\\\n",
    "                                begin\\\n",
    "                                insert into logtable\\\n",
    "                                values(old.fname,old.lname,old.contact,datetime('now','localtime'),'DELETE');\\\n",
    "                                end;\"\n",
    "\n",
    "    curobj.execute(log_table_delete_trigger)\n",
    "    log_table_update_trigger=\"create trigger IF NOT EXISTS update_trigger\\\n",
    "                                after update\\\n",
    "                                on contact\\\n",
    "                                begin\\\n",
    "                                insert into logtable\\\n",
    "                                values(new.fname,new.lname,new.contact,datetime('now','localtime'),'UPDATE(After)');\\\n",
    "                                insert into logtable\\\n",
    "                                values(old.fname,old.lname,old.contact,datetime('now','localtime'),'UPDATE(Before)');\\\n",
    "                                end;\"\n",
    "\n",
    "    curobj.execute(log_table_update_trigger)"
   ]
  },
  {
   "cell_type": "code",
   "execution_count": 23,
   "id": "14156ea3",
   "metadata": {},
   "outputs": [],
   "source": [
    "def menu():\n",
    "    print('Enter 1 To Insert Contact No')\n",
    "    print('Enter 2 To Delete Contact No')\n",
    "    print('Enter 3 To Update Contact No')\n",
    "    print('Enter 4 To Search Contact No')\n",
    "    print('Enter 0 To Quit')\n"
   ]
  },
  {
   "cell_type": "code",
   "execution_count": 24,
   "id": "27eae152",
   "metadata": {},
   "outputs": [],
   "source": [
    "def insert_contact():\n",
    "    try:\n",
    "            query = \"insert into contact \\\n",
    "                    values(?,?,?,?,?)\"\n",
    "            \n",
    "            First_Name=input('Enter Your First Name :')\n",
    "            Last_Name=input('Enter Your Last Name :')\n",
    "            Contact = int(input('Enter Your Contact No :'))\n",
    "            Email=input('Enter Your Email ID :')\n",
    "            City=input('Enter Your City :')\n",
    "            main_list=[First_Name,Last_Name,Contact,Email,City]\n",
    "            curobj.execute(query,main_list)\n",
    "            print()\n",
    "            print(\"Record(s) are/is Inserted Successfully\")\n",
    "            print()\n",
    "    except Error as e:\n",
    "            print()\n",
    "            print(e)\n",
    "            print()"
   ]
  },
  {
   "cell_type": "code",
   "execution_count": 25,
   "id": "0f25e53c",
   "metadata": {},
   "outputs": [],
   "source": [
    "def delete_contact():\n",
    "    try:\n",
    "            Name = input('Enter Your Contact First Name That You Want To Delete : ')\n",
    "            query = f\"delete from contact\\\n",
    "                        where fname='{Name}'\"\n",
    "            curobj.execute(query,main_list)\n",
    "            print()\n",
    "            print(\"Record(s) are/is Deleted Successfully\")\n",
    "            print()\n",
    "    except Error as e:\n",
    "            print()\n",
    "            print(e)\n",
    "            print()"
   ]
  },
  {
   "cell_type": "code",
   "execution_count": 26,
   "id": "8d1ad721",
   "metadata": {},
   "outputs": [],
   "source": [
    "def update_contact():\n",
    "    try:\n",
    "            print('\\nFirst Name\\tLast Name\\tContact No',end=\"\\n\")\n",
    "            col_name=input(\"Enter Your Choice Of Which Thing You Want To Update :\").lower()\n",
    "            \n",
    "            print(col_name)\n",
    "            if col_name=='first name':\n",
    "                old_fname=input(\"Enter Old First Name :\")\n",
    "                new_fname=input(\"Enter New First Name :\")\n",
    "                query =f\"\"\"update contact\n",
    "                                    set fname='{new_fname}'\n",
    "                                    where fname='{old_fname}' \"\"\"\n",
    "            elif col_name=='last name':\n",
    "                old_lname=input(\"Enter Old Last Name :\")\n",
    "                new_lname=input(\"Enter New Last Name :\")\n",
    "                query =f\"\"\"update contact\n",
    "                                    set fname='{new_lname}'\n",
    "                                    where fname='{old_lname}'  \"\"\"\n",
    "            elif col_name=='contact no':\n",
    "                old_contact=input(\"Enter Old Contact No :\")\n",
    "                new_conatct=input(\"Enter New Contact No :\")\n",
    "                query =f\"\"\"update contact\n",
    "                                    set fname='{new_contact}'\n",
    "                                    where fname='{old_contact}' \"\"\"\n",
    "            curobj.execute(query)\n",
    "            print()\n",
    "            print(\"Record(s) Update Successfully\")\n",
    "            print()\n",
    "    except Error as e:\n",
    "            print()\n",
    "            print(e)\n",
    "            print()"
   ]
  },
  {
   "cell_type": "code",
   "execution_count": 27,
   "id": "32d9da78",
   "metadata": {},
   "outputs": [],
   "source": [
    "def search_contact():\n",
    "    try:\n",
    "                curobj.execute('select fname , lname from contact')\n",
    "                All_Record = curobj.fetchall()\n",
    "                print('First Name\\tLast Name')\n",
    "                for i in All_Record:\n",
    "                    print(f'{i[0]}\\t\\t{i[1]}')\n",
    "    except Error as e:\n",
    "                print(e)\n",
    "                    \n",
    "    try:\n",
    "                Name = input('Enter Name : ')\n",
    "                curobj.execute(f'''select fname , lname , contact from contact\n",
    "                                                where fname = '{Name}' ''')\n",
    "                Contact_No =curobj.fetchall()\n",
    "                print()\n",
    "                print(\"$$$$$$$$$$$$$$$$$$$$$$$$$$$$$$$$$$$$$$$$$$$$$$$$$$$$$$$$$$$$$$$$$$$\",end='\\n')\n",
    "                print('First Name\\tLast Name\\tContact No')\n",
    "                print(\"$$$$$$$$$$$$$$$$$$$$$$$$$$$$$$$$$$$$$$$$$$$$$$$$$$$$$$$$$$$$$$$$$$$\",end='\\n')\n",
    "                for i in Contact_No:\n",
    "                     print(f'{i[0]}\\t\\t{i[1]}\\t\\t{i[2]}')\n",
    "                print()\n",
    "    except Error as e:\n",
    "                print(e)"
   ]
  },
  {
   "cell_type": "markdown",
   "id": "92424352",
   "metadata": {},
   "source": [
    "# Program"
   ]
  },
  {
   "cell_type": "code",
   "execution_count": null,
   "id": "64beb14e",
   "metadata": {},
   "outputs": [],
   "source": [
    "import sqlite3 \n",
    "conn=connect('c:\\\\sqlite3\\\\week4.db')\n",
    "\n",
    "curobj = conn.cursor()\n",
    "create_contact_table()\n",
    "create_log_table()\n",
    "contact_validate_trigger()\n",
    "log_table_trigger()\n",
    "main_list=[]\n",
    "choice=1\n",
    "\n",
    "while choice!=0:\n",
    "    menu()\n",
    "    choice=int(input('Enter Your Choice Of 1 To 4 : '))\n",
    "    if choice==1:\n",
    "        insert_contact()\n",
    "    if choice==2:\n",
    "        delete_contact()\n",
    "    if choice==3:\n",
    "        update_contact()\n",
    "    if choice==4:\n",
    "            search_contact()\n",
    "\n",
    "\n",
    "\n",
    "\n"
   ]
  },
  {
   "cell_type": "code",
   "execution_count": null,
   "id": "65d4cb02",
   "metadata": {},
   "outputs": [],
   "source": [
    "conn.commit()"
   ]
  },
  {
   "cell_type": "code",
   "execution_count": null,
   "id": "b20589b1",
   "metadata": {},
   "outputs": [],
   "source": [
    "conn.close()"
   ]
  },
  {
   "cell_type": "code",
   "execution_count": null,
   "id": "1518463c",
   "metadata": {},
   "outputs": [],
   "source": []
  }
 ],
 "metadata": {
  "kernelspec": {
   "display_name": "Python 3 (ipykernel)",
   "language": "python",
   "name": "python3"
  },
  "language_info": {
   "codemirror_mode": {
    "name": "ipython",
    "version": 3
   },
   "file_extension": ".py",
   "mimetype": "text/x-python",
   "name": "python",
   "nbconvert_exporter": "python",
   "pygments_lexer": "ipython3",
   "version": "3.11.4"
  }
 },
 "nbformat": 4,
 "nbformat_minor": 5
}
